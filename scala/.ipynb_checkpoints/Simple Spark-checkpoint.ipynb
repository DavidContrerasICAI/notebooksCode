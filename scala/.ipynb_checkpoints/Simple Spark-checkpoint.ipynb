{
 "cells": [
  {
   "cell_type": "markdown",
   "metadata": {},
   "source": [
    "### Spark config"
   ]
  },
  {
   "cell_type": "code",
   "execution_count": null,
   "metadata": {
    "collapsed": false
   },
   "outputs": [],
   "source": []
  },
  {
   "cell_type": "code",
   "execution_count": 2,
   "metadata": {
    "collapsed": false
   },
   "outputs": [
    {
     "data": {
      "text/plain": [
       "hive.metastore.warehouse.dir=file:/home/jovyan/work/scala/spark-warehouse\n",
       "spark.app.id=local-1488403469820\n",
       "spark.app.name=Apache Toree\n",
       "spark.driver.extraJavaOptions=-Dlog4j.logLevel=info\n",
       "spark.driver.host=172.17.0.2\n",
       "spark.driver.port=44162\n",
       "spark.executor.id=driver\n",
       "spark.jars=file:/opt/conda/share/jupyter/kernels/apache_toree_scala/lib/toree-assembly-0.2.0.dev1-incubating-SNAPSHOT.jar\n",
       "spark.master=local[*]\n",
       "spark.repl.class.outputDir=/tmp/spark-6d83fad0-1006-4cb9-8282-3fdd34ea5bb7/repl-eaed9518-e8c8-4c14-87c1-a1e2eb6b2115\n",
       "spark.repl.class.uri=spark://172.17.0.2:44162/classes\n",
       "spark.submit.deployMode=client"
      ]
     },
     "execution_count": 2,
     "metadata": {},
     "output_type": "execute_result"
    }
   ],
   "source": [
    "sc.getConf.toDebugString"
   ]
  },
  {
   "cell_type": "code",
   "execution_count": 5,
   "metadata": {
    "collapsed": false
   },
   "outputs": [],
   "source": [
    "val count = sc.makeRDD((1 to 1000).toArray).count()"
   ]
  },
  {
   "cell_type": "code",
   "execution_count": 1,
   "metadata": {
    "collapsed": false
   },
   "outputs": [],
   "source": [
    "val count = sc.makeRDD((1 to 1000).toArray)\n",
    "print count"
   ]
  },
  {
   "cell_type": "markdown",
   "metadata": {},
   "source": [
    "#### Counting"
   ]
  },
  {
   "cell_type": "code",
   "execution_count": 6,
   "metadata": {
    "collapsed": false
   },
   "outputs": [
    {
     "data": {
      "text/plain": [
       "<strong>1000 items</strong>"
      ]
     },
     "execution_count": 6,
     "metadata": {},
     "output_type": "execute_result"
    }
   ],
   "source": [
    "<strong>{count} items</strong>"
   ]
  },
  {
   "cell_type": "code",
   "execution_count": 7,
   "metadata": {
    "collapsed": false
   },
   "outputs": [],
   "source": [
    "val i:Int = 2"
   ]
  },
  {
   "cell_type": "code",
   "execution_count": 10,
   "metadata": {
    "collapsed": false
   },
   "outputs": [],
   "source": [
    "val sum = sc.makeRDD((1 to 1000).toArray).map(_ + i).reduce(_+_)\n"
   ]
  },
  {
   "cell_type": "code",
   "execution_count": 11,
   "metadata": {
    "collapsed": false
   },
   "outputs": [
    {
     "data": {
      "text/plain": [
       "502500"
      ]
     },
     "execution_count": 11,
     "metadata": {},
     "output_type": "execute_result"
    }
   ],
   "source": [
    "{sum}"
   ]
  }
 ],
 "metadata": {
  "auto_save_timestamp": "2015-01-10T00:02:12.659Z",
  "customArgs": null,
  "customDeps": null,
  "customImports": null,
  "customLocalRepo": null,
  "customRepos": null,
  "customSparkConf": null,
  "kernelspec": {
   "display_name": "Apache Toree - Scala",
   "language": "scala",
   "name": "apache_toree_scala"
  },
  "language_info": {
   "file_extension": ".scala",
   "name": "scala",
   "version": "2.11.8"
  },
  "name": "Simple Spark",
  "trusted": true,
  "user_save_timestamp": "2014-10-11T17:33:45.703Z"
 },
 "nbformat": 4,
 "nbformat_minor": 0
}
